{
 "cells": [
  {
   "cell_type": "code",
   "execution_count": 19,
   "id": "5b0df3b8-6d73-44f5-a3ae-f13f7f0b98ad",
   "metadata": {},
   "outputs": [],
   "source": [
    "import numpy as np\n",
    "import pandas as pd\n",
    "import matplotlib.pyplot as plt\n",
    "import seaborn as sns\n",
    "\n",
    "\n",
    "plt.style.use('dark_background')"
   ]
  },
  {
   "cell_type": "code",
   "execution_count": 2,
   "id": "3ffc92a4-df3d-461e-95ef-88ea2dea071f",
   "metadata": {},
   "outputs": [],
   "source": [
    "df = pd.read_csv('netflix1.csv')"
   ]
  },
  {
   "cell_type": "markdown",
   "id": "15307fd0",
   "metadata": {},
   "source": [
    "### Seeing the overview of the data"
   ]
  },
  {
   "cell_type": "code",
   "execution_count": 3,
   "id": "f5c11b60-d3f9-403f-8060-c34744c62d08",
   "metadata": {},
   "outputs": [
    {
     "name": "stdout",
     "output_type": "stream",
     "text": [
      "(8790, 10)\n",
      "<class 'pandas.core.frame.DataFrame'>\n",
      "RangeIndex: 8790 entries, 0 to 8789\n",
      "Data columns (total 10 columns):\n",
      " #   Column        Non-Null Count  Dtype \n",
      "---  ------        --------------  ----- \n",
      " 0   show_id       8790 non-null   object\n",
      " 1   type          8790 non-null   object\n",
      " 2   title         8790 non-null   object\n",
      " 3   director      8790 non-null   object\n",
      " 4   country       8790 non-null   object\n",
      " 5   date_added    8790 non-null   object\n",
      " 6   release_year  8790 non-null   int64 \n",
      " 7   rating        8790 non-null   object\n",
      " 8   duration      8790 non-null   object\n",
      " 9   listed_in     8790 non-null   object\n",
      "dtypes: int64(1), object(9)\n",
      "memory usage: 686.8+ KB\n",
      "None\n",
      "show_id         0\n",
      "type            0\n",
      "title           0\n",
      "director        0\n",
      "country         0\n",
      "date_added      0\n",
      "release_year    0\n",
      "rating          0\n",
      "duration        0\n",
      "listed_in       0\n",
      "dtype: int64\n",
      "0       False\n",
      "1       False\n",
      "2       False\n",
      "3       False\n",
      "4       False\n",
      "        ...  \n",
      "8785    False\n",
      "8786    False\n",
      "8787    False\n",
      "8788    False\n",
      "8789    False\n",
      "Length: 8790, dtype: bool\n"
     ]
    }
   ],
   "source": [
    "print(df.shape)\n",
    "print(df.info())\n",
    "print(df.isnull().sum())\n",
    "print(df.duplicated())"
   ]
  },
  {
   "cell_type": "code",
   "execution_count": 4,
   "id": "427bfedd-f4bc-4728-9f9f-4e070d274354",
   "metadata": {},
   "outputs": [
    {
     "data": {
      "text/html": [
       "<div>\n",
       "<style scoped>\n",
       "    .dataframe tbody tr th:only-of-type {\n",
       "        vertical-align: middle;\n",
       "    }\n",
       "\n",
       "    .dataframe tbody tr th {\n",
       "        vertical-align: top;\n",
       "    }\n",
       "\n",
       "    .dataframe thead th {\n",
       "        text-align: right;\n",
       "    }\n",
       "</style>\n",
       "<table border=\"1\" class=\"dataframe\">\n",
       "  <thead>\n",
       "    <tr style=\"text-align: right;\">\n",
       "      <th></th>\n",
       "      <th>show_id</th>\n",
       "      <th>type</th>\n",
       "      <th>title</th>\n",
       "      <th>director</th>\n",
       "      <th>country</th>\n",
       "      <th>date_added</th>\n",
       "      <th>release_year</th>\n",
       "      <th>rating</th>\n",
       "      <th>duration</th>\n",
       "      <th>listed_in</th>\n",
       "    </tr>\n",
       "  </thead>\n",
       "  <tbody>\n",
       "    <tr>\n",
       "      <th>0</th>\n",
       "      <td>s1</td>\n",
       "      <td>Movie</td>\n",
       "      <td>Dick Johnson Is Dead</td>\n",
       "      <td>Kirsten Johnson</td>\n",
       "      <td>United States</td>\n",
       "      <td>9/25/2021</td>\n",
       "      <td>2020</td>\n",
       "      <td>PG-13</td>\n",
       "      <td>90 min</td>\n",
       "      <td>Documentaries</td>\n",
       "    </tr>\n",
       "    <tr>\n",
       "      <th>1</th>\n",
       "      <td>s3</td>\n",
       "      <td>TV Show</td>\n",
       "      <td>Ganglands</td>\n",
       "      <td>Julien Leclercq</td>\n",
       "      <td>France</td>\n",
       "      <td>9/24/2021</td>\n",
       "      <td>2021</td>\n",
       "      <td>TV-MA</td>\n",
       "      <td>1 Season</td>\n",
       "      <td>Crime TV Shows, International TV Shows, TV Act...</td>\n",
       "    </tr>\n",
       "    <tr>\n",
       "      <th>2</th>\n",
       "      <td>s6</td>\n",
       "      <td>TV Show</td>\n",
       "      <td>Midnight Mass</td>\n",
       "      <td>Mike Flanagan</td>\n",
       "      <td>United States</td>\n",
       "      <td>9/24/2021</td>\n",
       "      <td>2021</td>\n",
       "      <td>TV-MA</td>\n",
       "      <td>1 Season</td>\n",
       "      <td>TV Dramas, TV Horror, TV Mysteries</td>\n",
       "    </tr>\n",
       "    <tr>\n",
       "      <th>3</th>\n",
       "      <td>s14</td>\n",
       "      <td>Movie</td>\n",
       "      <td>Confessions of an Invisible Girl</td>\n",
       "      <td>Bruno Garotti</td>\n",
       "      <td>Brazil</td>\n",
       "      <td>9/22/2021</td>\n",
       "      <td>2021</td>\n",
       "      <td>TV-PG</td>\n",
       "      <td>91 min</td>\n",
       "      <td>Children &amp; Family Movies, Comedies</td>\n",
       "    </tr>\n",
       "    <tr>\n",
       "      <th>4</th>\n",
       "      <td>s8</td>\n",
       "      <td>Movie</td>\n",
       "      <td>Sankofa</td>\n",
       "      <td>Haile Gerima</td>\n",
       "      <td>United States</td>\n",
       "      <td>9/24/2021</td>\n",
       "      <td>1993</td>\n",
       "      <td>TV-MA</td>\n",
       "      <td>125 min</td>\n",
       "      <td>Dramas, Independent Movies, International Movies</td>\n",
       "    </tr>\n",
       "  </tbody>\n",
       "</table>\n",
       "</div>"
      ],
      "text/plain": [
       "  show_id     type                             title         director  \\\n",
       "0      s1    Movie              Dick Johnson Is Dead  Kirsten Johnson   \n",
       "1      s3  TV Show                         Ganglands  Julien Leclercq   \n",
       "2      s6  TV Show                     Midnight Mass    Mike Flanagan   \n",
       "3     s14    Movie  Confessions of an Invisible Girl    Bruno Garotti   \n",
       "4      s8    Movie                           Sankofa     Haile Gerima   \n",
       "\n",
       "         country date_added  release_year rating  duration  \\\n",
       "0  United States  9/25/2021          2020  PG-13    90 min   \n",
       "1         France  9/24/2021          2021  TV-MA  1 Season   \n",
       "2  United States  9/24/2021          2021  TV-MA  1 Season   \n",
       "3         Brazil  9/22/2021          2021  TV-PG    91 min   \n",
       "4  United States  9/24/2021          1993  TV-MA   125 min   \n",
       "\n",
       "                                           listed_in  \n",
       "0                                      Documentaries  \n",
       "1  Crime TV Shows, International TV Shows, TV Act...  \n",
       "2                 TV Dramas, TV Horror, TV Mysteries  \n",
       "3                 Children & Family Movies, Comedies  \n",
       "4   Dramas, Independent Movies, International Movies  "
      ]
     },
     "execution_count": 4,
     "metadata": {},
     "output_type": "execute_result"
    }
   ],
   "source": [
    "df.head()"
   ]
  },
  {
   "cell_type": "code",
   "execution_count": 5,
   "id": "151810af-de09-4332-b2aa-6292511ce123",
   "metadata": {},
   "outputs": [
    {
     "data": {
      "text/plain": [
       "Index(['show_id', 'type', 'title', 'director', 'country', 'date_added',\n",
       "       'release_year', 'rating', 'duration', 'listed_in'],\n",
       "      dtype='object')"
      ]
     },
     "execution_count": 5,
     "metadata": {},
     "output_type": "execute_result"
    }
   ],
   "source": [
    "df.columns"
   ]
  },
  {
   "cell_type": "markdown",
   "id": "33d75cf5",
   "metadata": {},
   "source": [
    "### Making the column more understandable"
   ]
  },
  {
   "cell_type": "code",
   "execution_count": 7,
   "id": "a126f7d8-e9a6-4ac5-8cfa-d339d9d4b164",
   "metadata": {},
   "outputs": [],
   "source": [
    "df.rename(columns= (lambda x : x.replace('listed_in','genre').replace('date_added','date').replace('show_id','Seasons')),inplace=True)\n",
    "df['date'] = pd.to_datetime(df['date'])\n",
    "df = df.reset_index(drop=True)"
   ]
  },
  {
   "cell_type": "markdown",
   "id": "30865790",
   "metadata": {},
   "source": [
    "### Seeing the anomalies in unique"
   ]
  },
  {
   "cell_type": "code",
   "execution_count": 15,
   "id": "ac43a367-b946-4ae7-b144-661f28e6b1d4",
   "metadata": {},
   "outputs": [
    {
     "name": "stdout",
     "output_type": "stream",
     "text": [
      "type = ['Movie' 'TV Show']\n",
      "--------------------------------------------------\n",
      "title = ['Dick Johnson Is Dead' 'Ganglands' 'Midnight Mass' ...\n",
      " 'Zindagi Gulzar Hai' 'Yoko' 'YOM']\n",
      "--------------------------------------------------\n",
      "director = ['Kirsten Johnson' 'Julien Leclercq' 'Mike Flanagan' ... 'Majid Al Ansari'\n",
      " 'Peter Hewitt' 'Mozez Singh']\n",
      "--------------------------------------------------\n",
      "country = ['United States' 'France' 'Brazil' 'United Kingdom' 'India' 'Germany'\n",
      " 'Pakistan' 'Not Given' 'China' 'South Africa' 'Japan' 'Nigeria' 'Spain'\n",
      " 'Philippines' 'Australia' 'Argentina' 'Canada' 'Hong Kong' 'Italy'\n",
      " 'New Zealand' 'Egypt' 'Colombia' 'Mexico' 'Belgium' 'Switzerland'\n",
      " 'Taiwan' 'Bulgaria' 'Poland' 'South Korea' 'Saudi Arabia' 'Thailand'\n",
      " 'Indonesia' 'Kuwait' 'Malaysia' 'Vietnam' 'Lebanon' 'Romania' 'Syria'\n",
      " 'United Arab Emirates' 'Sweden' 'Mauritius' 'Austria' 'Turkey'\n",
      " 'Czech Republic' 'Cameroon' 'Netherlands' 'Ireland' 'Russia' 'Kenya'\n",
      " 'Chile' 'Uruguay' 'Bangladesh' 'Portugal' 'Hungary' 'Norway' 'Singapore'\n",
      " 'Iceland' 'Serbia' 'Namibia' 'Peru' 'Mozambique' 'Ghana' 'Zimbabwe'\n",
      " 'Israel' 'Finland' 'Denmark' 'Paraguay' 'Cambodia' 'Georgia'\n",
      " 'Soviet Union' 'Greece' 'West Germany' 'Iran' 'Venezuela' 'Slovenia'\n",
      " 'Guatemala' 'Jamaica' 'Somalia' 'Croatia' 'Jordan' 'Luxembourg' 'Senegal'\n",
      " 'Belarus' 'Puerto Rico' 'Cyprus' 'Ukraine']\n",
      "--------------------------------------------------\n",
      "date = <DatetimeArray>\n",
      "['2021-09-25 00:00:00', '2021-09-24 00:00:00', '2021-09-22 00:00:00',\n",
      " '2021-05-01 00:00:00', '2021-09-23 00:00:00', '2021-05-21 00:00:00',\n",
      " '2021-07-13 00:00:00', '2021-06-12 00:00:00', '2021-05-07 00:00:00',\n",
      " '2019-11-26 00:00:00',\n",
      " ...\n",
      " '2015-02-01 00:00:00', '2018-08-13 00:00:00', '2015-04-16 00:00:00',\n",
      " '2017-04-20 00:00:00', '2015-06-30 00:00:00', '2017-10-05 00:00:00',\n",
      " '2018-01-28 00:00:00', '2016-05-22 00:00:00', '2019-09-11 00:00:00',\n",
      " '2014-04-01 00:00:00']\n",
      "Length: 1713, dtype: datetime64[ns]\n",
      "--------------------------------------------------\n",
      "release_year = [2020 2021 1993 2019 2013 2014 2018 1998 2010 2017 1997 1996 1975 1978\n",
      " 1983 1987 2012 2001 2002 2003 2004 2011 2008 2009 2007 2005 2006 2016\n",
      " 1994 2015 1982 1989 1990 1991 1999 1986 1984 1980 1961 2000 1995 1985\n",
      " 1925 1992 1976 1959 1988 1981 1972 1964 1954 1979 1958 1956 1963 1970\n",
      " 1973 1960 1974 1966 1971 1962 1969 1977 1967 1968 1965 1945 1946 1942\n",
      " 1955 1944 1947 1943]\n",
      "--------------------------------------------------\n",
      "rating = ['PG-13' 'TV-MA' 'TV-PG' 'TV-14' 'TV-Y7' 'TV-Y' 'PG' 'TV-G' 'R' 'G'\n",
      " 'NC-17' 'NR' 'TV-Y7-FV' 'UR']\n",
      "--------------------------------------------------\n"
     ]
    }
   ],
   "source": [
    "for column in df.columns[1:8]:\n",
    "    print(f'{column} = {df[column].unique()}')\n",
    "    print('-'*50)"
   ]
  },
  {
   "cell_type": "markdown",
   "id": "f6b7565e-b760-4b9f-a279-c57c1b06c1e9",
   "metadata": {},
   "source": [
    "# director and country has not given data"
   ]
  },
  {
   "cell_type": "code",
   "execution_count": 18,
   "id": "1bfdfe26-106f-4cb0-b986-2c5d12a82440",
   "metadata": {},
   "outputs": [
    {
     "name": "stdout",
     "output_type": "stream",
     "text": [
      "director\n",
      "Not Given                         2588\n",
      "Rajiv Chilaka                       20\n",
      "Alastair Fothergill                 18\n",
      "Raúl Campos, Jan Suter              18\n",
      "Suhas Kadav                         16\n",
      "                                  ... \n",
      "Matt D'Avella                        1\n",
      "Parthiban                            1\n",
      "Scott McAboy                         1\n",
      "Raymie Muzquiz, Stu Livingston       1\n",
      "Mozez Singh                          1\n",
      "Name: count, Length: 4528, dtype: int64\n",
      "--------------------\n",
      "country\n",
      "United States     3240\n",
      "India             1057\n",
      "United Kingdom     638\n",
      "Pakistan           421\n",
      "Not Given          287\n",
      "                  ... \n",
      "Iran                 1\n",
      "West Germany         1\n",
      "Greece               1\n",
      "Zimbabwe             1\n",
      "Soviet Union         1\n",
      "Name: count, Length: 86, dtype: int64\n"
     ]
    }
   ],
   "source": [
    "print(df['director'].value_counts())\n",
    "print('-'*20)\n",
    "print(df['country'].value_counts())"
   ]
  },
  {
   "cell_type": "code",
   "execution_count": 26,
   "id": "c71608b1-a192-4cc4-9093-266a77dadca2",
   "metadata": {},
   "outputs": [
    {
     "data": {
      "image/png": "[encoded data removed]",
      "text/plain": [
       "<Figure size 800x600 with 1 Axes>"
      ]
     },
     "metadata": {},
     "output_type": "display_data"
    }
   ],
   "source": [
    "plt.figure(figsize=(8,6))\n",
    "sns.countplot( x= df['rating'],  hue = df['type'], palette='viridis')\n",
    "plt.title('rating counts')\n",
    "plt.xticks(rotation = 90)\n",
    "plt.tight_layout()\n",
    "plt.show()"
   ]
  }
 ],
 "metadata": {
  "kernelspec": {
   "display_name": "Python 3",
   "language": "python",
   "name": "python3"
  },
  "language_info": {
   "codemirror_mode": {
    "name": "ipython",
    "version": 3
   },
   "file_extension": ".py",
   "mimetype": "text/x-python",
   "name": "python",
   "nbconvert_exporter": "python",
   "pygments_lexer": "ipython3",
   "version": "3.12.1"
  }
 },
 "nbformat": 4,
 "nbformat_minor": 5
}
